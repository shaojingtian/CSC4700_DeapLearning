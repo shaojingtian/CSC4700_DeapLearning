{
 "cells": [
  {
   "cell_type": "code",
   "execution_count": 13,
   "metadata": {},
   "outputs": [],
   "source": [
    "#https://drive.google.com/file/d/19vBnBnLGAAx9jMRdvJGg4c0exKROsbiB/view?usp=sharing"
   ]
  },
  {
   "cell_type": "code",
   "execution_count": 14,
   "metadata": {
    "scrolled": true
   },
   "outputs": [
    {
     "name": "stdout",
     "output_type": "stream",
     "text": [
      "Populating the interactive namespace from numpy and matplotlib\n"
     ]
    }
   ],
   "source": [
    "%pylab inline"
   ]
  },
  {
   "cell_type": "code",
   "execution_count": 15,
   "metadata": {},
   "outputs": [],
   "source": [
    "import tensorflow as tf"
   ]
  },
  {
   "cell_type": "code",
   "execution_count": 16,
   "metadata": {
    "scrolled": true
   },
   "outputs": [
    {
     "name": "stdout",
     "output_type": "stream",
     "text": [
      "1 Physical GPUs, 1 Logical GPUs\n"
     ]
    }
   ],
   "source": [
    "gpus = tf.config.experimental.list_physical_devices('GPU')\n",
    "if gpus:\n",
    "  try:\n",
    "    for gpu in gpus:\n",
    "      tf.config.experimental.set_memory_growth(gpu, True)\n",
    "    logical_gpus = tf.config.experimental.list_logical_devices('GPU')\n",
    "    print(len(gpus), \"Physical GPUs,\", len(logical_gpus), \"Logical GPUs\")\n",
    "  except RuntimeError as e:\n",
    "    print(e)"
   ]
  },
  {
   "cell_type": "code",
   "execution_count": 17,
   "metadata": {},
   "outputs": [],
   "source": [
    "def create_model(x_train):\n",
    "    # input\n",
    "    input_shape = x_train.shape\n",
    "    visible = tf.keras.layers.Input(shape=input_shape[1:])\n",
    "    conv_input = tf.keras.layers.Conv2D(32,(3,3),padding='same')(visible)\n",
    "    batchnorm_input = tf.keras.layers.BatchNormalization()(conv_input)\n",
    "    relu_input = tf.keras.layers.ReLU()(batchnorm_input)\n",
    "    \n",
    "    #section A\n",
    "    #A1\n",
    "    ConvA1_1 = tf.keras.layers.Conv2D(32,(3,3),padding='same')(relu_input)\n",
    "    batchnormA1_1 = tf.keras.layers.BatchNormalization()(ConvA1_1)\n",
    "    reluA1_1 = tf.keras.layers.ReLU()(batchnormA1_1)\n",
    "    ConvA1_2 = tf.keras.layers.Conv2D(32,(3,3),padding='same')(reluA1_1)\n",
    "    batchnormA1_2 = tf.keras.layers.BatchNormalization()(ConvA1_2)\n",
    "    addA1 = tf.keras.layers.Add()([batchnormA1_2,relu_input])\n",
    "    reluA1_2 = tf.keras.layers.ReLU()(addA1)\n",
    "    \n",
    "    #A2\n",
    "    ConvA2_1 = tf.keras.layers.Conv2D(32,(3,3),padding='same')(reluA1_2)\n",
    "    batchnormA2_1 = tf.keras.layers.BatchNormalization()(ConvA2_1)\n",
    "    reluA2_1 = tf.keras.layers.ReLU()(batchnormA2_1)\n",
    "    ConvA2_2 = tf.keras.layers.Conv2D(32,(3,3),padding='same')(reluA2_1)\n",
    "    batchnormA2_2 = tf.keras.layers.BatchNormalization()(ConvA2_2)\n",
    "    addA2 = tf.keras.layers.Add()([batchnormA2_2,reluA1_2])\n",
    "    reluA2_2 = tf.keras.layers.ReLU()(addA2)\n",
    "    \n",
    "    #A3\n",
    "    ConvA3_1 = tf.keras.layers.Conv2D(32,(3,3),padding='same')(reluA2_2)\n",
    "    batchnormA3_1 = tf.keras.layers.BatchNormalization()(ConvA3_1)\n",
    "    reluA3_1 = tf.keras.layers.ReLU()(batchnormA3_1)\n",
    "    ConvA3_2 = tf.keras.layers.Conv2D(32,(3,3),padding='same')(reluA3_1)\n",
    "    batchnormA3_2 = tf.keras.layers.BatchNormalization()(ConvA3_2)\n",
    "    addA3 = tf.keras.layers.Add()([batchnormA3_2,reluA2_2])\n",
    "    reluA3_2 = tf.keras.layers.ReLU()(addA3)\n",
    "    \n",
    "    #section B\n",
    "    #B1\n",
    "    ConvB1_1 = tf.keras.layers.Conv2D(64,(3,3),strides=(2,2),padding='same')(reluA3_2)\n",
    "    batchnormB1_1 = tf.keras.layers.BatchNormalization()(ConvB1_1)\n",
    "    reluB1_1 = tf.keras.layers.ReLU()(batchnormB1_1)\n",
    "    ConvB1_2 = tf.keras.layers.Conv2D(64,(3,3),padding='same')(reluB1_1)\n",
    "    batchnormB1_2 = tf.keras.layers.BatchNormalization()(ConvB1_2)\n",
    "    skiptensorB1 = tf.keras.layers.Conv2D(64,(1,1),strides=(2,2),padding='same')(reluA3_2)\n",
    "    addB1 = tf.keras.layers.Add()([batchnormB1_2,skiptensorB1])\n",
    "    reluB1_2 = tf.keras.layers.ReLU()(addB1)\n",
    "    \n",
    "    #B2\n",
    "    ConvB2_1 = tf.keras.layers.Conv2D(64,(3,3),padding='same')(reluB1_2)\n",
    "    batchnormB2_1 = tf.keras.layers.BatchNormalization()(ConvB2_1)\n",
    "    reluB2_1 = tf.keras.layers.ReLU()(batchnormB2_1)\n",
    "    ConvB2_2 = tf.keras.layers.Conv2D(64,(3,3),padding='same')(reluB2_1)\n",
    "    batchnormB2_2 = tf.keras.layers.BatchNormalization()(ConvB2_2)\n",
    "    addB2 = tf.keras.layers.Add()([batchnormB2_2,reluB1_2])\n",
    "    reluB2_2 = tf.keras.layers.ReLU()(addB2)\n",
    "    \n",
    "    #B3\n",
    "    ConvB3_1 = tf.keras.layers.Conv2D(64,(3,3),padding='same')(reluB2_2)\n",
    "    batchnormB3_1 = tf.keras.layers.BatchNormalization()(ConvB3_1)\n",
    "    reluB3_1 = tf.keras.layers.ReLU()(batchnormB3_1)\n",
    "    ConvB3_2 = tf.keras.layers.Conv2D(64,(3,3),padding='same')(reluB3_1)\n",
    "    batchnormB3_2 = tf.keras.layers.BatchNormalization()(ConvB3_2)\n",
    "    addB3 = tf.keras.layers.Add()([batchnormB3_2,reluB2_2])\n",
    "    reluB3_2 = tf.keras.layers.ReLU()(addB3)\n",
    "    \n",
    "    #section C\n",
    "    #C1\n",
    "    ConvC1_1 = tf.keras.layers.Conv2D(128,(3,3),strides=(2,2),padding='same')(reluB3_2)\n",
    "    batchnormC1_1 = tf.keras.layers.BatchNormalization()(ConvC1_1)\n",
    "    reluC1_1 = tf.keras.layers.ReLU()(batchnormC1_1)\n",
    "    ConvC1_2 = tf.keras.layers.Conv2D(128,(3,3),padding='same')(reluC1_1)\n",
    "    batchnormC1_2 = tf.keras.layers.BatchNormalization()(ConvC1_2)\n",
    "    skiptensorC1 = tf.keras.layers.Conv2D(128,(1,1),strides=(2,2),padding='same')(reluB3_2)\n",
    "    addC1 = tf.keras.layers.Add()([batchnormC1_2,skiptensorC1])\n",
    "    reluC1_2 = tf.keras.layers.ReLU()(addC1)\n",
    "    \n",
    "    #C2\n",
    "    ConvC2_1 = tf.keras.layers.Conv2D(128,(3,3),padding='same')(reluC1_2)\n",
    "    batchnormC2_1 = tf.keras.layers.BatchNormalization()(ConvC2_1)\n",
    "    reluC2_1 = tf.keras.layers.ReLU()(batchnormC2_1)\n",
    "    ConvC2_2 = tf.keras.layers.Conv2D(128,(3,3),padding='same')(reluC2_1)\n",
    "    batchnormC2_2 = tf.keras.layers.BatchNormalization()(ConvC2_2)\n",
    "    addC2 = tf.keras.layers.Add()([batchnormC2_2,reluC1_2])\n",
    "    reluC2_2 = tf.keras.layers.ReLU()(addC2)\n",
    "    \n",
    "    #C3\n",
    "    ConvC3_1 = tf.keras.layers.Conv2D(128,(3,3),padding='same')(reluC2_2)\n",
    "    batchnormC3_1 = tf.keras.layers.BatchNormalization()(ConvC3_1)\n",
    "    reluC3_1 = tf.keras.layers.ReLU()(batchnormC3_1)\n",
    "    ConvC3_2 = tf.keras.layers.Conv2D(128,(3,3),padding='same')(reluC3_1)\n",
    "    batchnormC3_2 = tf.keras.layers.BatchNormalization()(ConvC3_2)\n",
    "    addC3 = tf.keras.layers.Add()([batchnormC3_2,reluC2_2])\n",
    "    reluC3_2 = tf.keras.layers.ReLU()(addC3)\n",
    "    \n",
    "    #global_average_pooling\n",
    "    pooling = tf.keras.layers.GlobalAveragePooling2D()(reluC3_2)\n",
    "    \n",
    "    #flatten\n",
    "    flat = tf.keras.layers.Flatten()(pooling)\n",
    "    \n",
    "    #dense\n",
    "    output = tf.keras.layers.Dense(10,activation='softmax')(flat)\n",
    "    \n",
    "    model = tf.keras.models.Model(inputs=visible, outputs=output)\n",
    "    \n",
    "    return model\n",
    "    \n",
    "    "
   ]
  },
  {
   "cell_type": "code",
   "execution_count": 18,
   "metadata": {},
   "outputs": [],
   "source": [
    "cifar10 = tf.keras.datasets.cifar10\n",
    "\n",
    "(x_train, y_train), (x_test, y_test) = cifar10.load_data()\n",
    "x_train, x_test = x_train / 255.0, x_test / 255.0"
   ]
  },
  {
   "cell_type": "code",
   "execution_count": 19,
   "metadata": {
    "scrolled": true
   },
   "outputs": [
    {
     "name": "stdout",
     "output_type": "stream",
     "text": [
      "Train on 50000 samples\n",
      "Epoch 1/50\n",
      "50000/50000 [==============================] - 16s 318us/sample - loss: 1.2463 - accuracy: 0.5497\n",
      "Epoch 2/50\n",
      "50000/50000 [==============================] - 14s 287us/sample - loss: 0.7802 - accuracy: 0.7251\n",
      "Epoch 3/50\n",
      "50000/50000 [==============================] - 15s 290us/sample - loss: 0.6011 - accuracy: 0.7900\n",
      "Epoch 4/50\n",
      "50000/50000 [==============================] - 15s 293us/sample - loss: 0.4933 - accuracy: 0.8286\n",
      "Epoch 5/50\n",
      "50000/50000 [==============================] - 15s 296us/sample - loss: 0.3992 - accuracy: 0.8602\n",
      "Epoch 6/50\n",
      "50000/50000 [==============================] - 15s 297us/sample - loss: 0.3290 - accuracy: 0.8853\n",
      "Epoch 7/50\n",
      "50000/50000 [==============================] - 15s 298us/sample - loss: 0.2695 - accuracy: 0.9042\n",
      "Epoch 8/50\n",
      "50000/50000 [==============================] - 15s 299us/sample - loss: 0.2109 - accuracy: 0.9260\n",
      "Epoch 9/50\n",
      "50000/50000 [==============================] - 15s 299us/sample - loss: 0.1701 - accuracy: 0.9397\n",
      "Epoch 10/50\n",
      "50000/50000 [==============================] - 15s 299us/sample - loss: 0.1403 - accuracy: 0.9503\n",
      "Epoch 11/50\n",
      "50000/50000 [==============================] - 15s 301us/sample - loss: 0.1146 - accuracy: 0.9594\n",
      "Epoch 12/50\n",
      "50000/50000 [==============================] - 15s 302us/sample - loss: 0.0982 - accuracy: 0.9658\n",
      "Epoch 13/50\n",
      "50000/50000 [==============================] - 15s 303us/sample - loss: 0.0840 - accuracy: 0.9702\n",
      "Epoch 14/50\n",
      "50000/50000 [==============================] - 15s 305us/sample - loss: 0.0794 - accuracy: 0.9721\n",
      "Epoch 15/50\n",
      "50000/50000 [==============================] - 15s 305us/sample - loss: 0.0640 - accuracy: 0.9782\n",
      "Epoch 16/50\n",
      "50000/50000 [==============================] - 15s 306us/sample - loss: 0.0700 - accuracy: 0.9751\n",
      "Epoch 17/50\n",
      "50000/50000 [==============================] - 15s 306us/sample - loss: 0.0580 - accuracy: 0.9798\n",
      "Epoch 18/50\n",
      "50000/50000 [==============================] - 15s 306us/sample - loss: 0.0601 - accuracy: 0.9791\n",
      "Epoch 19/50\n",
      "50000/50000 [==============================] - 15s 307us/sample - loss: 0.0533 - accuracy: 0.9814\n",
      "Epoch 20/50\n",
      "50000/50000 [==============================] - 15s 307us/sample - loss: 0.0460 - accuracy: 0.9840\n",
      "Epoch 21/50\n",
      "50000/50000 [==============================] - 15s 307us/sample - loss: 0.0531 - accuracy: 0.9813\n",
      "Epoch 22/50\n",
      "50000/50000 [==============================] - 15s 307us/sample - loss: 0.0444 - accuracy: 0.9847\n",
      "Epoch 23/50\n",
      "50000/50000 [==============================] - 15s 307us/sample - loss: 0.0428 - accuracy: 0.9851\n",
      "Epoch 24/50\n",
      "50000/50000 [==============================] - 15s 306us/sample - loss: 0.0419 - accuracy: 0.9859\n",
      "Epoch 25/50\n",
      "50000/50000 [==============================] - 15s 307us/sample - loss: 0.0379 - accuracy: 0.9871\n",
      "Epoch 26/50\n",
      "50000/50000 [==============================] - 15s 307us/sample - loss: 0.0399 - accuracy: 0.9857\n",
      "Epoch 27/50\n",
      "50000/50000 [==============================] - 15s 307us/sample - loss: 0.0277 - accuracy: 0.9906\n",
      "Epoch 28/50\n",
      "50000/50000 [==============================] - 15s 307us/sample - loss: 0.0348 - accuracy: 0.9880\n",
      "Epoch 29/50\n",
      "50000/50000 [==============================] - 15s 307us/sample - loss: 0.0411 - accuracy: 0.9850\n",
      "Epoch 30/50\n",
      "50000/50000 [==============================] - 15s 307us/sample - loss: 0.0309 - accuracy: 0.9899\n",
      "Epoch 31/50\n",
      "50000/50000 [==============================] - 15s 307us/sample - loss: 0.0395 - accuracy: 0.9860\n",
      "Epoch 32/50\n",
      "50000/50000 [==============================] - 15s 307us/sample - loss: 0.0240 - accuracy: 0.9916\n",
      "Epoch 33/50\n",
      "50000/50000 [==============================] - 15s 307us/sample - loss: 0.0253 - accuracy: 0.9911\n",
      "Epoch 34/50\n",
      "50000/50000 [==============================] - 15s 307us/sample - loss: 0.0382 - accuracy: 0.9866\n",
      "Epoch 35/50\n",
      "50000/50000 [==============================] - 15s 307us/sample - loss: 0.0238 - accuracy: 0.9920\n",
      "Epoch 36/50\n",
      "50000/50000 [==============================] - 15s 308us/sample - loss: 0.0268 - accuracy: 0.9911\n",
      "Epoch 37/50\n",
      "50000/50000 [==============================] - 15s 307us/sample - loss: 0.0324 - accuracy: 0.9883\n",
      "Epoch 38/50\n",
      "50000/50000 [==============================] - 15s 307us/sample - loss: 0.0237 - accuracy: 0.9921\n",
      "Epoch 39/50\n",
      "50000/50000 [==============================] - 15s 307us/sample - loss: 0.0218 - accuracy: 0.9925\n",
      "Epoch 40/50\n",
      "50000/50000 [==============================] - 15s 307us/sample - loss: 0.0331 - accuracy: 0.9886\n",
      "Epoch 41/50\n",
      "50000/50000 [==============================] - 15s 307us/sample - loss: 0.0176 - accuracy: 0.9940\n",
      "Epoch 42/50\n",
      "50000/50000 [==============================] - 15s 307us/sample - loss: 0.0205 - accuracy: 0.9930\n",
      "Epoch 43/50\n",
      "50000/50000 [==============================] - 15s 307us/sample - loss: 0.0294 - accuracy: 0.9902\n",
      "Epoch 44/50\n",
      "50000/50000 [==============================] - 15s 307us/sample - loss: 0.0220 - accuracy: 0.9928\n",
      "Epoch 45/50\n",
      "50000/50000 [==============================] - 15s 307us/sample - loss: 0.0162 - accuracy: 0.9946\n",
      "Epoch 46/50\n",
      "50000/50000 [==============================] - 15s 307us/sample - loss: 0.0269 - accuracy: 0.9911\n",
      "Epoch 47/50\n",
      "50000/50000 [==============================] - 15s 307us/sample - loss: 0.0195 - accuracy: 0.9935\n",
      "Epoch 48/50\n",
      "50000/50000 [==============================] - 15s 307us/sample - loss: 0.0238 - accuracy: 0.9921\n",
      "Epoch 49/50\n",
      "50000/50000 [==============================] - 15s 307us/sample - loss: 0.0184 - accuracy: 0.9938\n",
      "Epoch 50/50\n",
      "50000/50000 [==============================] - 15s 307us/sample - loss: 0.0146 - accuracy: 0.9948\n",
      "10000/1 - 3s - loss: 1.7263 - accuracy: 0.8223\n",
      "1.0592978289365769 0.8223\n"
     ]
    }
   ],
   "source": [
    "model_1 = create_model()\n",
    "model_1.compile(optimizer='adam',loss='sparse_categorical_crossentropy',metrics=['accuracy'])\n",
    "model_1.fit(x_train,y_train, epochs=50, batch_size=100)\n",
    "val_loss, val_acc = model_1.evaluate(x_test, y_test,verbose=2)\n",
    "print(val_loss,val_acc)"
   ]
  },
  {
   "cell_type": "code",
   "execution_count": 20,
   "metadata": {},
   "outputs": [],
   "source": [
    "model_1.save('my_model.h5')"
   ]
  },
  {
   "cell_type": "code",
   "execution_count": 21,
   "metadata": {},
   "outputs": [],
   "source": [
    "def get_trained_model():\n",
    "    loaded_model = tf.keras.models.load_model('my_model.h5')\n",
    "    return loaded_model"
   ]
  },
  {
   "cell_type": "code",
   "execution_count": 22,
   "metadata": {},
   "outputs": [
    {
     "name": "stdout",
     "output_type": "stream",
     "text": [
      "[[7.21832157e-06 2.90611507e-10 6.21961163e-11 ... 2.92705235e-11\n",
      "  2.88926910e-10 6.70341616e-10]\n",
      " [1.04392095e-08 2.09018708e-05 7.12735807e-17 ... 9.79836546e-18\n",
      "  9.99979138e-01 1.81968438e-12]\n",
      " [4.08994675e-01 5.63483536e-02 6.03645185e-06 ... 1.95608266e-07\n",
      "  5.33478975e-01 9.44199157e-04]\n",
      " ...\n",
      " [6.18508988e-13 7.53045959e-11 1.10059523e-03 ... 1.37527648e-04\n",
      "  7.81460573e-12 7.59764474e-12]\n",
      " [8.49497467e-02 9.15046871e-01 8.79999391e-07 ... 4.02849022e-12\n",
      "  3.27250632e-07 4.46652759e-09]\n",
      " [4.60939903e-18 1.20694885e-14 8.40482947e-16 ... 1.00000000e+00\n",
      "  3.63547368e-18 7.80138024e-18]]\n"
     ]
    }
   ],
   "source": [
    "model_2 = get_trained_model()\n",
    "prediction = model_2.predict([x_test])\n",
    "print(prediction)"
   ]
  },
  {
   "cell_type": "code",
   "execution_count": null,
   "metadata": {},
   "outputs": [],
   "source": []
  }
 ],
 "metadata": {
  "kernelspec": {
   "display_name": "Python 3",
   "language": "python",
   "name": "python3"
  },
  "language_info": {
   "codemirror_mode": {
    "name": "ipython",
    "version": 3
   },
   "file_extension": ".py",
   "mimetype": "text/x-python",
   "name": "python",
   "nbconvert_exporter": "python",
   "pygments_lexer": "ipython3",
   "version": "3.7.4"
  }
 },
 "nbformat": 4,
 "nbformat_minor": 2
}
